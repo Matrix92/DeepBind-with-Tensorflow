{
 "cells": [
  {
   "cell_type": "markdown",
   "metadata": {},
   "source": [
    "# DeepBind using Keras - util.py"
   ]
  },
  {
   "cell_type": "markdown",
   "metadata": {},
   "source": [
    "In Util sono presenti le funzioni che verranno utilizzate in tutti gli esprimenti.\n",
    "Importiamo prima di tutto le librerie necessarie all'esecuzione del codice:"
   ]
  },
  {
   "cell_type": "code",
   "execution_count": null,
   "metadata": {},
   "outputs": [],
   "source": [
    "import tensorflow as tf\n",
    "import numpy as np\n",
    "import math\n",
    "import random\n",
    "from keras import backend as K\n"
   ]
  },
  {
   "cell_type": "markdown",
   "metadata": {},
   "source": [
    "Ora inizializziamo le variabili:"
   ]
  },
  {
   "cell_type": "code",
   "execution_count": null,
   "metadata": {},
   "outputs": [],
   "source": [
    "dictpad={'A':[1.,0.,0.,0.],'C':[0.,1.,0.,0.],'G':[0.,0.,1.,0.],'T':[0.,0.,0.,1.],'U':[0.,0.,0.,1.],'N':[0.25,0.25,0.25,0.25]}\n",
    "dictReverse={'A':'T','C':'G','G':'C','T':'A','N':'N'} #dictionary to implement reverse-complement mode"
   ]
  },
  {
   "cell_type": "markdown",
   "metadata": {},
   "source": [
    "Seguendo il paper supplementare (pag.3), definiamo la funzione seqtopad, che trasforma la sequenza in un array.\n",
    "Ho deciso in Keras di creare un array in una dimensione, piuttosto che 2-dimensionale.\n",
    "Il motivo è che la convoluzione si sposta solo verticalmente, quindi la si può fare 1 dimensionale spostandosi di strides=4"
   ]
  },
  {
   "cell_type": "code",
   "execution_count": null,
   "metadata": {},
   "outputs": [],
   "source": [
    "def seqtopad(sequence,motlen):    \n",
    "    pad=[]\n",
    "    for j in range(motlen-1):\n",
    "        pad.extend(dictpad['N'])\n",
    "    res=pad.copy()\n",
    "    for i in range(len(sequence)):\n",
    "        res.extend(dictpad[sequence[i]])\n",
    "    res.extend(pad)\n",
    "    return np.asarray(res)"
   ]
  },
  {
   "cell_type": "markdown",
   "metadata": {},
   "source": [
    "Definiamo le funzioni padsequence, che permette di uniformare la lunghezza di esperimenti con sequenze di diversa lunghezza aggiungendo delle 'N' (non-basi)."
   ]
  },
  {
   "cell_type": "code",
   "execution_count": null,
   "metadata": {},
   "outputs": [],
   "source": [
    "def padsequence(sequence,maxlength):\n",
    "    return sequence + 'N'*(maxlength-len(sequence))\n",
    "\n",
    "def reverse(sequence):\n",
    "    revseq=''\n",
    "    for i in sequence:\n",
    "        revseq+=dictReverse[i]\n",
    "    return revseq   "
   ]
  },
  {
   "cell_type": "markdown",
   "metadata": {},
   "source": [
    "Definiamo le funzioni logsampler e sqrtsampler, necessario per generare un numero casuale tramite queste distribuzioni (paper supp. pag.12)."
   ]
  },
  {
   "cell_type": "code",
   "execution_count": null,
   "metadata": {},
   "outputs": [],
   "source": [
    "def logsampler(a,b,tensor=0):\n",
    "    if(tensor==1):\n",
    "        x=tf.Variable(tf.random_uniform([1],minval=0,maxval=1))\n",
    "    else:\n",
    "        x=np.random.uniform(low=0,high=1)\n",
    "    y=10**((math.log10(b)-math.log10(a))*x + math.log10(a))\n",
    "    return y\n",
    "\n",
    "def sqrtsampler(a,b,tensor=0):\n",
    "    if(tensor==1):\n",
    "        x=tf.Variable(tf.random_uniform([1],minval=0,maxval=1))\n",
    "    else:\n",
    "        x=np.random.uniform(low=0,high=1)\n",
    "    y=(b-a)*math.sqrt(x)+a\n",
    "    return y"
   ]
  },
  {
   "cell_type": "markdown",
   "metadata": {},
   "source": [
    "Per gli esperimenti SELEX e CHIP-seq la funzione di perdita stabilita dagli autori è la negative-log-likelihood (non presente nelle losses di default di Keras).\n",
    "Definiamo perciò questa funzione e una funzioni che implementi il dinucleotide-shuffle, necessaria per costruire le entries negative (specificità zero) nel training set di SELEX e CHIP-seq."
   ]
  },
  {
   "cell_type": "code",
   "execution_count": null,
   "metadata": {},
   "outputs": [],
   "source": [
    "def log_loss(label,prediction):\n",
    "    def sigma(x):\n",
    "        return 1/(1+math.e**(-x))\n",
    "    return K.mean(-label*K.log(sigma(prediction)) - (1-label)*K.log(1-sigma(prediction)))\n",
    "    \n",
    "def dinucshuffle(sequence):\n",
    "    b=[sequence[i:i+2] for i in range(0, len(sequence), 2)]\n",
    "    random.shuffle(b)\n",
    "    d=''.join([str(x) for x in b])\n",
    "    return d"
   ]
  }
 ],
 "metadata": {
  "kernelspec": {
   "display_name": "Python 3",
   "language": "python",
   "name": "python3"
  },
  "language_info": {
   "codemirror_mode": {
    "name": "ipython",
    "version": 3
   },
   "file_extension": ".py",
   "mimetype": "text/x-python",
   "name": "python",
   "nbconvert_exporter": "python",
   "pygments_lexer": "ipython3",
   "version": "3.5.2"
  }
 },
 "nbformat": 4,
 "nbformat_minor": 2
}
